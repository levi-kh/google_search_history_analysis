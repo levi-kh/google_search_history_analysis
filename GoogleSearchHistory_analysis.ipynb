{
 "cells": [
  {
   "cell_type": "markdown",
   "id": "4f48b191",
   "metadata": {},
   "source": [
    "# Google Search Behavior Analysis\n",
    "\n",
    "* by Levi | https://github.com/levi-kh"
   ]
  },
  {
   "cell_type": "code",
   "execution_count": null,
   "id": "6b631ba1-4841-403d-9ca3-72eeedcd1f89",
   "metadata": {},
   "outputs": [],
   "source": [
    "import pandas as pd\n",
    "import matplotlib.pyplot as plt"
   ]
  },
  {
   "cell_type": "code",
   "execution_count": null,
   "id": "26143bed-15f4-4ff0-87a2-6e32da56fb2d",
   "metadata": {},
   "outputs": [],
   "source": [
    "#Import search data from CSV\n",
    "df = pd.read_csv(\"google_search_history_sample.csv\")"
   ]
  },
  {
   "cell_type": "code",
   "execution_count": 6,
   "id": "3e2e5327-df91-49d5-b91d-2e0e3ca99683",
   "metadata": {},
   "outputs": [
    {
     "data": {
      "text/html": [
       "<div>\n",
       "<style scoped>\n",
       "    .dataframe tbody tr th:only-of-type {\n",
       "        vertical-align: middle;\n",
       "    }\n",
       "\n",
       "    .dataframe tbody tr th {\n",
       "        vertical-align: top;\n",
       "    }\n",
       "\n",
       "    .dataframe thead th {\n",
       "        text-align: right;\n",
       "    }\n",
       "</style>\n",
       "<table border=\"1\" class=\"dataframe\">\n",
       "  <thead>\n",
       "    <tr style=\"text-align: right;\">\n",
       "      <th></th>\n",
       "      <th>timestamp</th>\n",
       "      <th>search_query</th>\n",
       "      <th>category</th>\n",
       "    </tr>\n",
       "  </thead>\n",
       "  <tbody>\n",
       "    <tr>\n",
       "      <th>0</th>\n",
       "      <td>2025-06-11 21:41:00</td>\n",
       "      <td>upcoming marvel movies</td>\n",
       "      <td>entertainment</td>\n",
       "    </tr>\n",
       "    <tr>\n",
       "      <th>1</th>\n",
       "      <td>2025-05-28 10:53:00</td>\n",
       "      <td>best protein bars 2025</td>\n",
       "      <td>food &amp; beverage</td>\n",
       "    </tr>\n",
       "    <tr>\n",
       "      <th>2</th>\n",
       "      <td>2025-04-09 19:17:00</td>\n",
       "      <td>HIIT workout 20 minutes</td>\n",
       "      <td>fitness</td>\n",
       "    </tr>\n",
       "    <tr>\n",
       "      <th>3</th>\n",
       "      <td>2025-04-03 08:27:00</td>\n",
       "      <td>how to write a resume 2025</td>\n",
       "      <td>career</td>\n",
       "    </tr>\n",
       "    <tr>\n",
       "      <th>4</th>\n",
       "      <td>2025-04-15 09:16:00</td>\n",
       "      <td>how to make cold brew coffee</td>\n",
       "      <td>food &amp; beverage</td>\n",
       "    </tr>\n",
       "  </tbody>\n",
       "</table>\n",
       "</div>"
      ],
      "text/plain": [
       "             timestamp                  search_query         category\n",
       "0  2025-06-11 21:41:00        upcoming marvel movies    entertainment\n",
       "1  2025-05-28 10:53:00        best protein bars 2025  food & beverage\n",
       "2  2025-04-09 19:17:00       HIIT workout 20 minutes          fitness\n",
       "3  2025-04-03 08:27:00    how to write a resume 2025           career\n",
       "4  2025-04-15 09:16:00  how to make cold brew coffee  food & beverage"
      ]
     },
     "execution_count": 6,
     "metadata": {},
     "output_type": "execute_result"
    }
   ],
   "source": [
    "df.head()"
   ]
  },
  {
   "cell_type": "code",
   "execution_count": 10,
   "id": "acb6ece3-5460-45d7-bd0e-a0fa574de8b2",
   "metadata": {},
   "outputs": [],
   "source": [
    "#convert from object to timestamp\n",
    "df['timestamp'] = pd.to_datetime(df['timestamp'])"
   ]
  },
  {
   "cell_type": "code",
   "execution_count": 37,
   "id": "59c09e7f-e3c8-4ae4-b9c4-4e11ec49f471",
   "metadata": {},
   "outputs": [],
   "source": [
    "#Create hour column and day_of_week column\n",
    "df['hour'] = df['timestamp'].dt.hour\n",
    "df['day_of_week'] = df['timestamp'].dt.day_name()"
   ]
  },
  {
   "cell_type": "code",
   "execution_count": 13,
   "id": "6523d4ba-65c2-46e9-9855-e1724c880e1f",
   "metadata": {},
   "outputs": [
    {
     "data": {
      "text/html": [
       "<div>\n",
       "<style scoped>\n",
       "    .dataframe tbody tr th:only-of-type {\n",
       "        vertical-align: middle;\n",
       "    }\n",
       "\n",
       "    .dataframe tbody tr th {\n",
       "        vertical-align: top;\n",
       "    }\n",
       "\n",
       "    .dataframe thead th {\n",
       "        text-align: right;\n",
       "    }\n",
       "</style>\n",
       "<table border=\"1\" class=\"dataframe\">\n",
       "  <thead>\n",
       "    <tr style=\"text-align: right;\">\n",
       "      <th></th>\n",
       "      <th>timestamp</th>\n",
       "      <th>search_query</th>\n",
       "      <th>category</th>\n",
       "      <th>hour</th>\n",
       "      <th>day of week</th>\n",
       "    </tr>\n",
       "  </thead>\n",
       "  <tbody>\n",
       "    <tr>\n",
       "      <th>0</th>\n",
       "      <td>2025-06-11 21:41:00</td>\n",
       "      <td>upcoming marvel movies</td>\n",
       "      <td>entertainment</td>\n",
       "      <td>21</td>\n",
       "      <td>Wednesday</td>\n",
       "    </tr>\n",
       "    <tr>\n",
       "      <th>1</th>\n",
       "      <td>2025-05-28 10:53:00</td>\n",
       "      <td>best protein bars 2025</td>\n",
       "      <td>food &amp; beverage</td>\n",
       "      <td>10</td>\n",
       "      <td>Wednesday</td>\n",
       "    </tr>\n",
       "    <tr>\n",
       "      <th>2</th>\n",
       "      <td>2025-04-09 19:17:00</td>\n",
       "      <td>HIIT workout 20 minutes</td>\n",
       "      <td>fitness</td>\n",
       "      <td>19</td>\n",
       "      <td>Wednesday</td>\n",
       "    </tr>\n",
       "    <tr>\n",
       "      <th>3</th>\n",
       "      <td>2025-04-03 08:27:00</td>\n",
       "      <td>how to write a resume 2025</td>\n",
       "      <td>career</td>\n",
       "      <td>8</td>\n",
       "      <td>Thursday</td>\n",
       "    </tr>\n",
       "    <tr>\n",
       "      <th>4</th>\n",
       "      <td>2025-04-15 09:16:00</td>\n",
       "      <td>how to make cold brew coffee</td>\n",
       "      <td>food &amp; beverage</td>\n",
       "      <td>9</td>\n",
       "      <td>Tuesday</td>\n",
       "    </tr>\n",
       "  </tbody>\n",
       "</table>\n",
       "</div>"
      ],
      "text/plain": [
       "            timestamp                  search_query         category  hour  \\\n",
       "0 2025-06-11 21:41:00        upcoming marvel movies    entertainment    21   \n",
       "1 2025-05-28 10:53:00        best protein bars 2025  food & beverage    10   \n",
       "2 2025-04-09 19:17:00       HIIT workout 20 minutes          fitness    19   \n",
       "3 2025-04-03 08:27:00    how to write a resume 2025           career     8   \n",
       "4 2025-04-15 09:16:00  how to make cold brew coffee  food & beverage     9   \n",
       "\n",
       "  day of week  \n",
       "0   Wednesday  \n",
       "1   Wednesday  \n",
       "2   Wednesday  \n",
       "3    Thursday  \n",
       "4     Tuesday  "
      ]
     },
     "execution_count": 13,
     "metadata": {},
     "output_type": "execute_result"
    }
   ],
   "source": [
    "df.head()"
   ]
  },
  {
   "cell_type": "code",
   "execution_count": 26,
   "id": "4ce59ad7-5009-4b9a-ac81-cedaafbf98c1",
   "metadata": {},
   "outputs": [
    {
     "name": "stdout",
     "output_type": "stream",
     "text": [
      "hour\n",
      "6     24\n",
      "7     22\n",
      "8     29\n",
      "9     15\n",
      "10    24\n",
      "11    26\n",
      "12    21\n",
      "13    21\n",
      "14    24\n",
      "15    22\n",
      "16    20\n",
      "17    26\n",
      "18    19\n",
      "19    31\n",
      "20    17\n",
      "21    16\n",
      "22    23\n",
      "23    20\n",
      "Name: count, dtype: int64\n"
     ]
    }
   ],
   "source": [
    "#Question 1: What time of day does this person search the most?\n",
    "search_by_hour = df['hour'].value_counts().sort_index()\n",
    "print(search_by_hour)"
   ]
  },
  {
   "cell_type": "code",
   "execution_count": 24,
   "id": "ba9eaeb3-bacd-419b-a739-1f429c8f8827",
   "metadata": {},
   "outputs": [
    {
     "data": {
      "image/png": "[encoded data removed]",
      "text/plain": [
       "<Figure size 1200x600 with 1 Axes>"
      ]
     },
     "metadata": {},
     "output_type": "display_data"
    }
   ],
   "source": [
    "#Create bar chart\n",
    "plt.figure(figsize=(12,6))\n",
    "search_by_hour.plot(kind='bar',color='skyblue')\n",
    "plt.title('Number of Google Searches by Hour of Day')\n",
    "plt.xlabel('Hour of Day (0-23)')\n",
    "plt.ylabel('Number of Searches')\n",
    "plt.xticks(rotation=0)\n",
    "plt.show()"
   ]
  },
  {
   "cell_type": "code",
   "execution_count": 35,
   "id": "ebc1d3f4-a1e6-4050-bec1-6dfdeb76b180",
   "metadata": {},
   "outputs": [
    {
     "name": "stdout",
     "output_type": "stream",
     "text": [
      "category\n",
      "technology         41\n",
      "relationships      54\n",
      "mental health      68\n",
      "lifestyle          47\n",
      "food & beverage    45\n",
      "fitness            46\n",
      "entertainment      46\n",
      "career             53\n",
      "Name: count, dtype: int64\n"
     ]
    }
   ],
   "source": [
    "#Question 2: What topics do they search for most often?\n",
    "category_counts = df['category'].value_counts().sort_index(ascending=False)\n",
    "print(category_counts)"
   ]
  },
  {
   "cell_type": "code",
   "execution_count": 34,
   "id": "97e80058-fc8b-4537-8b6e-d40fc3e599b9",
   "metadata": {},
   "outputs": [
    {
     "data": {
      "image/png": "[encoded data removed]",
      "text/plain": [
       "<Figure size 1000x500 with 1 Axes>"
      ]
     },
     "metadata": {},
     "output_type": "display_data"
    }
   ],
   "source": [
    "#Create bar chart\n",
    "plt.figure(figsize=(10,5))\n",
    "category_counts.plot(kind='bar',color='mediumseagreen')\n",
    "plt.title('Most Frequently Searched Topics')\n",
    "plt.xlabel('Number of Searches')\n",
    "plt.ylabel('Search Category')\n",
    "plt.tight_layout()\n",
    "plt.xticks(rotation=0)\n",
    "plt.show()"
   ]
  },
  {
   "cell_type": "code",
   "execution_count": 38,
   "id": "c747f58b-ff83-4d81-80f0-0f4fa9e6a878",
   "metadata": {},
   "outputs": [
    {
     "name": "stdout",
     "output_type": "stream",
     "text": [
      "day_of_week\n",
      "Wednesday    66\n",
      "Saturday     64\n",
      "Friday       63\n",
      "Sunday       60\n",
      "Monday       53\n",
      "Tuesday      48\n",
      "Thursday     46\n",
      "Name: count, dtype: int64\n"
     ]
    }
   ],
   "source": [
    "#Question 3: Do they tend to Google more on weekends or weekdays?\n",
    "day_counts = df['day_of_week'].value_counts()\n",
    "print(day_counts)"
   ]
  },
  {
   "cell_type": "code",
   "execution_count": 39,
   "id": "9d0f44e0-0cb3-431a-9ccd-ff1ee0c90fd6",
   "metadata": {},
   "outputs": [],
   "source": [
    "df['is_weekend'] = df['day_of_week'].isin(['Friday','Saturday','Sunday'])\n",
    "df['is_weekday'] = df['day_of_week'].isin(['Monday','Tuesday','Wednesday','Thursday'])"
   ]
  },
  {
   "cell_type": "code",
   "execution_count": 42,
   "id": "6e384fbe-bcfa-4df4-8820-bb9c7b74862e",
   "metadata": {},
   "outputs": [
    {
     "name": "stdout",
     "output_type": "stream",
     "text": [
      "Weekend searches: 187\n",
      "Weekday searches: 213\n"
     ]
    }
   ],
   "source": [
    "weekend_count = df[df['is_weekend'] == True].shape[0]\n",
    "weekday_count = df[df['is_weekend'] == False].shape[0]\n",
    "\n",
    "print(f\"Weekend searches: {weekend_count}\")\n",
    "print(f\"Weekday searches: {weekday_count}\")"
   ]
  },
  {
   "cell_type": "code",
   "execution_count": 43,
   "id": "c6e133c7-aa43-44ff-abee-cb0f1c73c5fc",
   "metadata": {},
   "outputs": [
    {
     "data": {
      "image/png": "[encoded data removed]",
      "text/plain": [
       "<Figure size 1000x500 with 1 Axes>"
      ]
     },
     "metadata": {},
     "output_type": "display_data"
    }
   ],
   "source": [
    "plt.figure(figsize=(10,5))\n",
    "day_counts.plot(kind='bar',color='cornflowerblue')\n",
    "plt.title(\"Number of Google Searches by Day of the Week\")\n",
    "plt.xlabel('Day of week')\n",
    "plt.ylabel('Number of Searches')\n",
    "plt.tight_layout()\n",
    "plt.xticks(rotation=0)\n",
    "plt.show()"
   ]
  },
  {
   "cell_type": "code",
   "execution_count": 44,
   "id": "7dd6bfc4-0c53-4315-befe-182f2aa38a88",
   "metadata": {},
   "outputs": [],
   "source": [
    "#Question 4: Are there any repeated keywords?\n",
    "\n",
    "#Convert all queries to lowercase\n",
    "df['search_query_cleaned'] = df['search_query'].str.lower().str.strip()"
   ]
  },
  {
   "cell_type": "code",
   "execution_count": 47,
   "id": "0dd2b122-0319-495e-92a8-42a9a6dbde64",
   "metadata": {},
   "outputs": [
    {
     "name": "stdout",
     "output_type": "stream",
     "text": [
      "search_query_cleaned\n",
      "symptoms of anxiety vs stress          20\n",
      "best gifts for girlfriend birthday     15\n",
      "how to sleep better                    14\n",
      "upcoming marvel movies                 14\n",
      "how to apologize sincerely             13\n",
      "meditation music for focus             13\n",
      "how to write a resume 2025             13\n",
      "yoga for lower back pain               13\n",
      "chest workout at home no equipment     12\n",
      "how to negotiate salary                12\n",
      "how to make cold brew coffee           11\n",
      "is project management a good career    11\n",
      "vpn recommendation reddit              11\n",
      "vegan breakfast recipes                11\n",
      "minimalist home office setup           11\n",
      "online therapy reviews                 11\n",
      "daily routine for productivity         10\n",
      "iphone 16 vs samsung galaxy s25        10\n",
      "morning habits of successful people    10\n",
      "top netflix shows july 2025            10\n",
      "do i have burnout                      10\n",
      "signs someone likes you                10\n",
      "certifications for data analyst         9\n",
      "first date conversation starters        9\n",
      "what is hygge lifestyle                 9\n",
      "taylor swift 2025 tour                  8\n",
      "best protein bars 2025                  8\n",
      "remote jobs entry level                 8\n",
      "is oat milk better than almond milk     8\n",
      "best horror movies 2020s                7\n",
      "long distance relationship tips         7\n",
      "hiit workout 20 minutes                 7\n",
      "funny podcasts to listen to             7\n",
      "gym near me                             7\n",
      "best budget laptop for students         7\n",
      "intermittent fasting benefits           7\n",
      "how to start journaling                 7\n",
      "ai tools for productivity               7\n",
      "how to run a 5k                         7\n",
      "how to clear cache chrome               6\n",
      "Name: count, dtype: int64\n"
     ]
    }
   ],
   "source": [
    "repeated_queries = df['search_query_cleaned'].value_counts()\n",
    "repeated_queries = repeated_queries[repeated_queries > 1]\n",
    "print(repeated_queries)"
   ]
  },
  {
   "cell_type": "code",
   "execution_count": null,
   "id": "4626aa13-6d6b-4fe3-b516-772224f6866c",
   "metadata": {},
   "outputs": [],
   "source": [
    "import nltk\n",
    "nltk.download('stopwords') #download the stopwords list (common words like \"the\", \"and\")\n",
    "from nltk.corpus import stopwords\n",
    "stop_words = set(stopwords.words('english')) #get English stopwords as a set"
   ]
  },
  {
   "cell_type": "code",
   "execution_count": 60,
   "id": "ffe9c514-8a84-40fa-8e90-2b4e968e3a15",
   "metadata": {},
   "outputs": [
    {
     "name": "stdout",
     "output_type": "stream",
     "text": [
      "how to:83\n",
      "symptoms of:20\n",
      "of anxiety:20\n",
      "anxiety vs:20\n",
      "vs stress:20\n",
      "for productivity:17\n",
      "best gifts:15\n",
      "gifts for:15\n",
      "for girlfriend:15\n",
      "girlfriend birthday:15\n",
      "upcoming marvel:14\n",
      "marvel movies:14\n",
      "to sleep:14\n",
      "sleep better:14\n",
      "to write:13\n",
      "write a:13\n",
      "a resume:13\n",
      "resume 2025:13\n",
      "meditation music:13\n",
      "music for:13\n",
      "for focus:13\n",
      "to apologize:13\n",
      "apologize sincerely:13\n",
      "yoga for:13\n",
      "for lower:13\n",
      "lower back:13\n",
      "back pain:13\n",
      "to negotiate:12\n",
      "negotiate salary:12\n",
      "chest workout:12\n",
      "workout at:12\n",
      "at home:12\n",
      "home no:12\n",
      "no equipment:12\n",
      "to make:11\n",
      "make cold:11\n",
      "cold brew:11\n",
      "brew coffee:11\n",
      "minimalist home:11\n",
      "home office:11\n",
      "office setup:11\n",
      "online therapy:11\n",
      "therapy reviews:11\n",
      "vegan breakfast:11\n",
      "breakfast recipes:11\n",
      "vpn recommendation:11\n",
      "recommendation reddit:11\n",
      "is project:11\n",
      "project management:11\n",
      "management a:11\n"
     ]
    }
   ],
   "source": [
    "from collections import Counter\n",
    "\n",
    "#Combine all search queries into one string\n",
    "all_queries = ' '.join(df['search_query_cleaned'])\n",
    "\n",
    "#Split the words\n",
    "words = all_queries.lower().split()\n",
    "\n",
    "#create bigrams\n",
    "bigrams = [f\"{words[i]} {words[i+1]}\" for i in range(len(words)-1)]\n",
    "\n",
    "bigram_counts = Counter(bigrams)\n",
    "\n",
    "for phrase, freq in bigram_counts.most_common(50):\n",
    "    print(f\"{phrase}:{freq}\")\n"
   ]
  },
  {
   "cell_type": "code",
   "execution_count": null,
   "id": "42d33890-3f8a-457d-98cf-b7e7419aec10",
   "metadata": {},
   "outputs": [],
   "source": []
  }
 ],
 "metadata": {
  "kernelspec": {
   "display_name": "Python 3 (ipykernel)",
   "language": "python",
   "name": "python3"
  },
  "language_info": {
   "codemirror_mode": {
    "name": "ipython",
    "version": 3
   },
   "file_extension": ".py",
   "mimetype": "text/x-python",
   "name": "python",
   "nbconvert_exporter": "python",
   "pygments_lexer": "ipython3",
   "version": "3.12.7"
  }
 },
 "nbformat": 4,
 "nbformat_minor": 5
}
